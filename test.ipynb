{
 "cells": [
  {
   "cell_type": "code",
   "execution_count": 1,
   "metadata": {},
   "outputs": [
    {
     "data": {
      "application/vnd.jupyter.widget-view+json": {
       "model_id": "c5ed82169fc24e9ba9fb46d3cf2c87d8",
       "version_major": 2,
       "version_minor": 0
      },
      "text/plain": [
       "FigureWidget({\n",
       "    'data': [{'marker': {'color': [rgba(200,0,0,0.001246204318094728),\n",
       "                                   rgba(200,0,0,0.0006239334932627677),\n",
       "                                   rgba(200,0,0,0.0006676941415343423), ...,\n",
       "                                   rgba(200,0,0,0.0006239334932627677),\n",
       "                                   rgba(200,0,0,0.0006239334932627677),\n",
       "                                   rgba(200,0,0,0.0006239334932627677)],\n",
       "                         'size': 2},\n",
       "              'mode': 'markers',\n",
       "              'name': '点云数据',\n",
       "              'type': 'scatter3d',\n",
       "              'uid': 'addc74de-e444-47f1-937e-c781a5818634',\n",
       "              'x': [0, 0, 0, ..., 63, 63, 63],\n",
       "              'y': [0, 0, 0, ..., 63, 63, 63],\n",
       "              'z': [10, 12, 13, ..., 181, 184, 189]}],\n",
       "    'layout': {'autosize': True,\n",
       "               'height': 600,\n",
       "               'scene': {'aspectmode': 'data',\n",
       "                         'camera': {'eye': {'x': 1.5, 'y': 0.8, 'z': 1.8}, 'up': {'x': 0, 'y': 1, 'z': 0}},\n",
       "                         'xaxis': {'autorange': 'reversed', 'title': {'text': '像素 X'}},\n",
       "                         'yaxis': {'autorange': 'reversed', 'title': {'text': '像素 Y'}},\n",
       "                         'zaxis': {'autorange': 'reversed', 'title': {'text': '时间 (ns)'}}},\n",
       "               'template': '...',\n",
       "               'title': {'text': '光子点云（强度>0的点）- 蓝色点，透明度表示强度'},\n",
       "               'width': 900}\n",
       "})"
      ]
     },
     "metadata": {},
     "output_type": "display_data"
    }
   ],
   "source": [
    "# 在Jupyter笔记本中使用\n",
    "from IPython.display import display\n",
    "import src.DataLoader as dl\n",
    "\n",
    "file_path = '/Users/ming/Documents/PythonCode/Coates/data/2025-01-17_15-09-54_Delay-0_Width-200.raw'\n",
    "data_loader = dl.DataChecker(file_path, exposure=5000, gate_info=(0, 200))\n",
    "# 绘制单个像素的点云\n",
    "# point_cloud_single = data_loader.draw_point_cloud()\n",
    "# point_cloud_single.show()\n",
    "\n",
    "# 绘制所有像素的点云（使用较高的子采样因子提高性能）\n",
    "point_cloud_single = data_loader.draw_point_cloud()\n",
    "display(point_cloud_single)\n",
    "# layout = data_loader.draw_strength('original')\n",
    "# display(layout)\n",
    "\n",
    "\n",
    "# 第一，coates估计器输出的光场不是归一化的分布，直接*exposure会爆，继续修改仿真的结果,要参考update_coates_estimation(中生成直方图的思路\n",
    "# 第二，软件删去前10个bin是有问题的\n"
   ]
  }
 ],
 "metadata": {
  "kernelspec": {
   "display_name": "yolo",
   "language": "python",
   "name": "python3"
  },
  "language_info": {
   "codemirror_mode": {
    "name": "ipython",
    "version": 3
   },
   "file_extension": ".py",
   "mimetype": "text/x-python",
   "name": "python",
   "nbconvert_exporter": "python",
   "pygments_lexer": "ipython3",
   "version": "3.12.2"
  }
 },
 "nbformat": 4,
 "nbformat_minor": 2
}
