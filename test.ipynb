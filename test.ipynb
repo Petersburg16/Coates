{
 "cells": [
  {
   "cell_type": "code",
   "execution_count": 2,
   "metadata": {},
   "outputs": [
    {
     "ename": "ImportError",
     "evalue": "Please install anywidget to use the FigureWidget class",
     "output_type": "error",
     "traceback": [
      "\u001b[31m---------------------------------------------------------------------------\u001b[39m",
      "\u001b[31mImportError\u001b[39m                               Traceback (most recent call last)",
      "\u001b[36mCell\u001b[39m\u001b[36m \u001b[39m\u001b[32mIn[2]\u001b[39m\u001b[32m, line 17\u001b[39m\n\u001b[32m      6\u001b[39m data_loader = dl.DataChecker(file_path, exposure=\u001b[32m3000\u001b[39m, gate_info=(\u001b[32m0\u001b[39m, \u001b[32m200\u001b[39m))\n\u001b[32m      8\u001b[39m \u001b[38;5;66;03m# 绘制单个像素的点云\u001b[39;00m\n\u001b[32m      9\u001b[39m \u001b[38;5;66;03m# point_cloud_single = data_loader.draw_point_cloud()\u001b[39;00m\n\u001b[32m     10\u001b[39m \u001b[38;5;66;03m# point_cloud_single.show()\u001b[39;00m\n\u001b[32m   (...)\u001b[39m\u001b[32m     15\u001b[39m \u001b[38;5;66;03m# point_cloud_single = data_loader.draw_point_cloud()\u001b[39;00m\n\u001b[32m     16\u001b[39m \u001b[38;5;66;03m# display(point_cloud_single)\u001b[39;00m\n\u001b[32m---> \u001b[39m\u001b[32m17\u001b[39m layout = \u001b[43mdata_loader\u001b[49m\u001b[43m.\u001b[49m\u001b[43mdraw_strength\u001b[49m\u001b[43m(\u001b[49m\u001b[33;43m'\u001b[39;49m\u001b[33;43mcompare\u001b[39;49m\u001b[33;43m'\u001b[39;49m\u001b[43m)\u001b[49m\n\u001b[32m     18\u001b[39m display(layout)\n\u001b[32m     21\u001b[39m \u001b[38;5;66;03m# 第一，coates估计器输出的光场不是归一化的分布，直接*exposure会爆，继续修改仿真的结果,要参考update_coates_estimation(中生成直方图的思路\u001b[39;00m\n\u001b[32m     22\u001b[39m \u001b[38;5;66;03m# 第二，软件删去前10个bin是有问题的\u001b[39;00m\n",
      "\u001b[36mFile \u001b[39m\u001b[32me:\\Mingle\\PythonCode\\Coates\\src\\DataLoader\\DataChecker.py:22\u001b[39m, in \u001b[36mDataChecker.draw_strength\u001b[39m\u001b[34m(self, mode)\u001b[39m\n\u001b[32m     12\u001b[39m \u001b[38;5;250m\u001b[39m\u001b[33;03m\"\"\"\u001b[39;00m\n\u001b[32m     13\u001b[39m \u001b[33;03m绘制强度图和直方图\u001b[39;00m\n\u001b[32m     14\u001b[39m \u001b[33;03m\u001b[39;00m\n\u001b[32m   (...)\u001b[39m\u001b[32m     19\u001b[39m \u001b[33;03m        - 'compare': 对比显示原始和Coates估计直方图\u001b[39;00m\n\u001b[32m     20\u001b[39m \u001b[33;03m\"\"\"\u001b[39;00m\n\u001b[32m     21\u001b[39m strength_matrix = \u001b[38;5;28mself\u001b[39m._strength_matrix\n\u001b[32m---> \u001b[39m\u001b[32m22\u001b[39m fig_strength = \u001b[43mgo\u001b[49m\u001b[43m.\u001b[49m\u001b[43mFigureWidget\u001b[49m\u001b[43m(\u001b[49m\n\u001b[32m     23\u001b[39m \u001b[43m    \u001b[49m\u001b[43mdata\u001b[49m\u001b[43m=\u001b[49m\u001b[43m[\u001b[49m\u001b[43mgo\u001b[49m\u001b[43m.\u001b[49m\u001b[43mHeatmap\u001b[49m\u001b[43m(\u001b[49m\u001b[43mz\u001b[49m\u001b[43m=\u001b[49m\u001b[43mstrength_matrix\u001b[49m\u001b[43m,\u001b[49m\u001b[43m \u001b[49m\u001b[43mcolorscale\u001b[49m\u001b[43m=\u001b[49m\u001b[33;43m'\u001b[39;49m\u001b[33;43mGray\u001b[39;49m\u001b[33;43m'\u001b[39;49m\u001b[43m,\u001b[49m\u001b[43m \u001b[49m\u001b[43mzmin\u001b[49m\u001b[43m=\u001b[49m\u001b[32;43m0\u001b[39;49m\u001b[43m,\u001b[49m\u001b[43m \u001b[49m\u001b[43mzmax\u001b[49m\u001b[43m=\u001b[49m\u001b[32;43m255\u001b[39;49m\u001b[43m)\u001b[49m\u001b[43m]\u001b[49m\n\u001b[32m     24\u001b[39m \u001b[43m\u001b[49m\u001b[43m)\u001b[49m\n\u001b[32m     26\u001b[39m delay, width = \u001b[38;5;28mself\u001b[39m._gate_info[\u001b[32m0\u001b[39m], \u001b[38;5;28mself\u001b[39m._gate_info[\u001b[32m1\u001b[39m] - \u001b[38;5;28mself\u001b[39m._gate_info[\u001b[32m0\u001b[39m]\n\u001b[32m     27\u001b[39m fig_strength.update_layout(\n\u001b[32m     28\u001b[39m     title=\u001b[33mf\u001b[39m\u001b[33m\"\u001b[39m\u001b[33m强度图 - 延迟: \u001b[39m\u001b[38;5;132;01m{\u001b[39;00mdelay\u001b[38;5;132;01m}\u001b[39;00m\u001b[33m, 门宽: \u001b[39m\u001b[38;5;132;01m{\u001b[39;00mwidth\u001b[38;5;132;01m}\u001b[39;00m\u001b[33m\"\u001b[39m,\n\u001b[32m     29\u001b[39m     xaxis=\u001b[38;5;28mdict\u001b[39m(scaleanchor=\u001b[33m'\u001b[39m\u001b[33my\u001b[39m\u001b[33m'\u001b[39m, scaleratio=\u001b[32m1\u001b[39m),\n\u001b[32m   (...)\u001b[39m\u001b[32m     33\u001b[39m     margin=\u001b[38;5;28mdict\u001b[39m(l=\u001b[32m50\u001b[39m, r=\u001b[32m30\u001b[39m, t=\u001b[32m50\u001b[39m, b=\u001b[32m50\u001b[39m)\n\u001b[32m     34\u001b[39m )\n",
      "\u001b[36mFile \u001b[39m\u001b[32mc:\\ProgramData\\anaconda3\\envs\\Mingle-dash\\Lib\\site-packages\\plotly\\missing_anywidget.py:13\u001b[39m, in \u001b[36mFigureWidget.__init__\u001b[39m\u001b[34m(self, *args, **kwargs)\u001b[39m\n\u001b[32m     12\u001b[39m \u001b[38;5;28;01mdef\u001b[39;00m\u001b[38;5;250m \u001b[39m\u001b[34m__init__\u001b[39m(\u001b[38;5;28mself\u001b[39m, *args, **kwargs):\n\u001b[32m---> \u001b[39m\u001b[32m13\u001b[39m     \u001b[38;5;28;01mraise\u001b[39;00m \u001b[38;5;167;01mImportError\u001b[39;00m(\u001b[33m\"\u001b[39m\u001b[33mPlease install anywidget to use the FigureWidget class\u001b[39m\u001b[33m\"\u001b[39m)\n",
      "\u001b[31mImportError\u001b[39m: Please install anywidget to use the FigureWidget class"
     ]
    }
   ],
   "source": [
    "# 在Jupyter笔记本中使用\n",
    "from IPython.display import display\n",
    "import src.DataLoader as dl\n",
    "file_path = r\"D:\\Mingle\\20250111_data\\没有雾\\大卫\\2025-01-11_20-20-13_Delay-0_Width-200.raw\"\n",
    "# file_path = '/Users/ming/Documents/PythonCode/Coates/data/2025-01-17_15-09-54_Delay-0_Width-200.raw'\n",
    "data_loader = dl.DataChecker(file_path, exposure=3000, gate_info=(0, 200))\n",
    "\n",
    "# 绘制单个像素的点云\n",
    "# point_cloud_single = data_loader.draw_point_cloud()\n",
    "# point_cloud_single.show()\n",
    "\n",
    "# 绘制所有像素的点云（使用较高的子采样因子提高性能）\n",
    "# point_cloud_vis = data_loader.draw_point_cloud_pyvista()\n",
    "# display(point_cloud_vis)\n",
    "# point_cloud_single = data_loader.draw_point_cloud()\n",
    "# display(point_cloud_single)\n",
    "layout = data_loader.draw_strength('compare')\n",
    "display(layout)\n",
    "\n",
    "\n",
    "# 第一，coates估计器输出的光场不是归一化的分布，直接*exposure会爆，继续修改仿真的结果,要参考update_coates_estimation(中生成直方图的思路\n",
    "# 第二，软件删去前10个bin是有问题的\n"
   ]
  }
 ],
 "metadata": {
  "kernelspec": {
   "display_name": "Mingle-dash",
   "language": "python",
   "name": "python3"
  },
  "language_info": {
   "codemirror_mode": {
    "name": "ipython",
    "version": 3
   },
   "file_extension": ".py",
   "mimetype": "text/x-python",
   "name": "python",
   "nbconvert_exporter": "python",
   "pygments_lexer": "ipython3",
   "version": "3.13.2"
  }
 },
 "nbformat": 4,
 "nbformat_minor": 2
}
