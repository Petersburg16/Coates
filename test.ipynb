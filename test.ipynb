{
 "cells": [
  {
   "cell_type": "code",
   "execution_count": null,
   "metadata": {},
   "outputs": [
    {
     "data": {
      "application/vnd.jupyter.widget-view+json": {
       "model_id": "1d0d460e74d84e8ba5cd6e68fb9c6862",
       "version_major": 2,
       "version_minor": 0
      },
      "text/plain": [
       "HBox(children=(FigureWidget({\n",
       "    'data': [{'colorscale': [[0.0, 'rgb(0, 0, 0)'], [0.09090909090909091, 'rgb(1…"
      ]
     },
     "metadata": {},
     "output_type": "display_data"
    }
   ],
   "source": [
    "# 在Jupyter笔记本中使用\n",
    "from IPython.display import display\n",
    "import src.DataLoader as dl\n",
    "file_path = r\"G:\\2025-03-19_21-02-39_Delay-0_Width-2000.raw\"\n",
    "# file_path = '/Users/ming/Documents/PythonCode/Coates/data/2025-01-17_15-09-54_Delay-0_Width-200.raw'\n",
    "data_loader = dl.DataChecker(file_path, exposure=3000, gate_info=(0, 200))\n",
    "# 绘制单个像素的点云\n",
    "# point_cloud_single = data_loader.draw_point_cloud()\n",
    "# point_cloud_single.show()\n",
    "\n",
    "# 绘制所有像素的点云（使用较高的子采样因子提高性能）\n",
    "# point_cloud_vis = data_loader.draw_point_cloud_pyvista()\n",
    "# display(point_cloud_vis)\n",
    "# point_cloud_single = data_loader.draw_point_cloud()\n",
    "# display(point_cloud_single)\n",
    "layout = data_loader.draw_strength('original')\n",
    "display(layout)\n",
    "\n",
    "\n",
    "# 第一，coates估计器输出的光场不是归一化的分布，直接*exposure会爆，继续修改仿真的结果,要参考update_coates_estimation(中生成直方图的思路\n",
    "# 第二，软件删去前10个bin是有问题的\n"
   ]
  }
 ],
 "metadata": {
  "kernelspec": {
   "display_name": "Mingle",
   "language": "python",
   "name": "python3"
  },
  "language_info": {
   "codemirror_mode": {
    "name": "ipython",
    "version": 3
   },
   "file_extension": ".py",
   "mimetype": "text/x-python",
   "name": "python",
   "nbconvert_exporter": "python",
   "pygments_lexer": "ipython3",
   "version": "3.12.9"
  }
 },
 "nbformat": 4,
 "nbformat_minor": 2
}
