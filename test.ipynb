{
 "cells": [
  {
   "cell_type": "code",
   "execution_count": 1,
   "metadata": {},
   "outputs": [
    {
     "ename": "AttributeError",
     "evalue": "'DoubleGaussian' object has no attribute 'data'",
     "output_type": "error",
     "traceback": [
      "\u001b[31m---------------------------------------------------------------------------\u001b[39m",
      "\u001b[31mAttributeError\u001b[39m                            Traceback (most recent call last)",
      "\u001b[36mCell\u001b[39m\u001b[36m \u001b[39m\u001b[32mIn[1]\u001b[39m\u001b[32m, line 12\u001b[39m\n\u001b[32m      1\u001b[39m \u001b[38;5;28;01mfrom\u001b[39;00m\u001b[38;5;250m \u001b[39m\u001b[34;01msrc\u001b[39;00m\u001b[38;5;250m \u001b[39m\u001b[38;5;28;01mimport\u001b[39;00m SPADSimulator \u001b[38;5;28;01mas\u001b[39;00m sim \n\u001b[32m      2\u001b[39m double_gaussian_params = {\n\u001b[32m      3\u001b[39m         \u001b[33m\"\u001b[39m\u001b[33mpulse_pos1\u001b[39m\u001b[33m\"\u001b[39m: \u001b[32m40\u001b[39m,\n\u001b[32m      4\u001b[39m         \u001b[33m\"\u001b[39m\u001b[33mpulse_pos2\u001b[39m\u001b[33m\"\u001b[39m: \u001b[32m70\u001b[39m,\n\u001b[32m   (...)\u001b[39m\u001b[32m     10\u001b[39m         \u001b[33m\"\u001b[39m\u001b[33mtotal_strength\u001b[39m\u001b[33m\"\u001b[39m: \u001b[32m1\u001b[39m,\n\u001b[32m     11\u001b[39m }\n\u001b[32m---> \u001b[39m\u001b[32m12\u001b[39m \u001b[43msim\u001b[49m\u001b[43m.\u001b[49m\u001b[43mDoubleGaussian\u001b[49m\u001b[43m(\u001b[49m\u001b[43m)\u001b[49m\n",
      "\u001b[36mFile \u001b[39m\u001b[32me:\\Mingle\\PythonCode\\Coates\\src\\SPADSimulator\\DoubleGaussian.py:24\u001b[39m, in \u001b[36mDoubleGaussian.__init__\u001b[39m\u001b[34m(self, double_gaussian_params, gate_info, cycles, simulate_field)\u001b[39m\n\u001b[32m     15\u001b[39m \u001b[38;5;28;01mdef\u001b[39;00m\u001b[38;5;250m \u001b[39m\u001b[34m__init__\u001b[39m(\n\u001b[32m     16\u001b[39m     \u001b[38;5;28mself\u001b[39m,\n\u001b[32m     17\u001b[39m     double_gaussian_params: \u001b[38;5;28mdict\u001b[39m = double_gaussian_params,\n\u001b[32m   (...)\u001b[39m\u001b[32m     20\u001b[39m     simulate_field: \u001b[38;5;28mint\u001b[39m = \u001b[32m200\u001b[39m\n\u001b[32m     21\u001b[39m ):\n\u001b[32m     22\u001b[39m     \u001b[38;5;28mself\u001b[39m.double_gaussian_flux_params = double_gaussian_params\n\u001b[32m---> \u001b[39m\u001b[32m24\u001b[39m     \u001b[38;5;28;43mself\u001b[39;49m\u001b[43m.\u001b[49m\u001b[43mdata\u001b[49m.flux=\u001b[38;5;28mself\u001b[39m.double_gaussian_flux(simulate_field, resolution_factor=\u001b[32m1\u001b[39m, **\u001b[38;5;28mself\u001b[39m.double_gaussian_flux_params)\n\u001b[32m     25\u001b[39m     \u001b[38;5;28mprint\u001b[39m(np.sum(\u001b[38;5;28mself\u001b[39m.data.flux))\n\u001b[32m     27\u001b[39m     \u001b[38;5;28msuper\u001b[39m().\u001b[34m__init__\u001b[39m(gate_info, cycles, simulate_field)\n",
      "\u001b[31mAttributeError\u001b[39m: 'DoubleGaussian' object has no attribute 'data'"
     ]
    }
   ],
   "source": [
    "from src import SPADSimulator as sim \n",
    "double_gaussian_params = {\n",
    "        \"pulse_pos1\": 40,\n",
    "        \"pulse_pos2\": 70,\n",
    "        \"pulse_width1\": 5,\n",
    "        \"pulse_width2\": 5,\n",
    "        \"signal_strength1\": 0.5,\n",
    "        \"signal_strength2\": 0.5,\n",
    "        \"bg_strength\": 0.1,\n",
    "        \"total_strength\": 1,\n",
    "}\n",
    "sim.DoubleGaussian()\n",
    "\n",
    "\n"
   ]
  }
 ],
 "metadata": {
  "kernelspec": {
   "display_name": "Mingle-dash",
   "language": "python",
   "name": "python3"
  },
  "language_info": {
   "codemirror_mode": {
    "name": "ipython",
    "version": 3
   },
   "file_extension": ".py",
   "mimetype": "text/x-python",
   "name": "python",
   "nbconvert_exporter": "python",
   "pygments_lexer": "ipython3",
   "version": "3.13.2"
  }
 },
 "nbformat": 4,
 "nbformat_minor": 2
}
