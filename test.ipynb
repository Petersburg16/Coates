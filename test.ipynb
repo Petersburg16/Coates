{
 "cells": [
  {
   "cell_type": "code",
   "execution_count": 1,
   "metadata": {},
   "outputs": [
    {
     "data": {
      "application/vnd.jupyter.widget-view+json": {
       "model_id": "e1f80baad0024338aa3862e95c56d6b0",
       "version_major": 2,
       "version_minor": 0
      },
      "text/plain": [
       "FigureWidget({\n",
       "    'data': [{'marker': {'color': [rgba(200,0,0,0.09338061307278671),\n",
       "                                   rgba(200,0,0,0.010092472124111138),\n",
       "                                   rgba(200,0,0,0.004700362541650796), ...,\n",
       "                                   rgba(200,0,0,0.0011125453177063495),\n",
       "                                   rgba(200,0,0,0.0011125453177063495),\n",
       "                                   rgba(200,0,0,0.0011125453177063495)],\n",
       "                         'size': 2},\n",
       "              'mode': 'markers',\n",
       "              'name': '点云数据',\n",
       "              'type': 'scatter3d',\n",
       "              'uid': 'f860697e-805b-48ee-a374-75798d8d1c8a',\n",
       "              'x': array([ 0,  0,  0, ..., 63, 63, 63]),\n",
       "              'y': array([ 0,  0,  0, ..., 63, 63, 63]),\n",
       "              'z': array([ 10,  11,  12, ..., 179, 180, 186])}],\n",
       "    'layout': {'autosize': True,\n",
       "               'height': 600,\n",
       "               'scene': {'aspectmode': 'data',\n",
       "                         'camera': {'eye': {'x': 1.5, 'y': 0.8, 'z': 1.8}, 'up': {'x': 0, 'y': 1, 'z': 0}},\n",
       "                         'xaxis': {'autorange': 'reversed', 'title': {'text': '像素 X'}},\n",
       "                         'yaxis': {'autorange': 'reversed', 'title': {'text': '像素 Y'}},\n",
       "                         'zaxis': {'autorange': 'reversed', 'title': {'text': '时间 (ns)'}}},\n",
       "               'template': '...',\n",
       "               'title': {'text': '光子点云（强度>0的点）- 蓝色点，透明度表示强度'},\n",
       "               'width': 900}\n",
       "})"
      ]
     },
     "metadata": {},
     "output_type": "display_data"
    }
   ],
   "source": [
    "# 在Jupyter笔记本中使用\n",
    "from IPython.display import display\n",
    "import src.DataLoader as dl\n",
    "file_path = r'E:\\Mingle\\PythonCode\\Coates\\data\\2025-01-17_16-31-55_Delay-0_Width-200.raw'\n",
    "# file_path = '/Users/ming/Documents/PythonCode/Coates/data/2025-01-17_15-09-54_Delay-0_Width-200.raw'\n",
    "data_loader = dl.DataChecker(file_path, exposure=5000, gate_info=(0, 200))\n",
    "# 绘制单个像素的点云\n",
    "# point_cloud_single = data_loader.draw_point_cloud()\n",
    "# point_cloud_single.show()\n",
    "\n",
    "# 绘制所有像素的点云（使用较高的子采样因子提高性能）\n",
    "point_cloud_single = data_loader.draw_point_cloud()\n",
    "display(point_cloud_single)\n",
    "# layout = data_loader.draw_strength('original')\n",
    "# display(layout)\n",
    "\n",
    "\n",
    "# 第一，coates估计器输出的光场不是归一化的分布，直接*exposure会爆，继续修改仿真的结果,要参考update_coates_estimation(中生成直方图的思路\n",
    "# 第二，软件删去前10个bin是有问题的\n"
   ]
  }
 ],
 "metadata": {
  "kernelspec": {
   "display_name": "Mingle",
   "language": "python",
   "name": "python3"
  },
  "language_info": {
   "codemirror_mode": {
    "name": "ipython",
    "version": 3
   },
   "file_extension": ".py",
   "mimetype": "text/x-python",
   "name": "python",
   "nbconvert_exporter": "python",
   "pygments_lexer": "ipython3",
   "version": "3.12.9"
  }
 },
 "nbformat": 4,
 "nbformat_minor": 2
}
