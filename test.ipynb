{
 "cells": [
  {
   "cell_type": "code",
   "execution_count": 2,
   "metadata": {},
   "outputs": [
    {
     "data": {
      "application/vnd.jupyter.widget-view+json": {
       "model_id": "1f37a85e55494d06b6862b45e3ba223a",
       "version_major": 2,
       "version_minor": 0
      },
      "text/plain": [
       "VBox(children=(FigureWidget({\n",
       "    'data': [{'customdata': array([8, 1, 1, ..., 1, 1, 1]),\n",
       "              'hover…"
      ]
     },
     "metadata": {},
     "output_type": "display_data"
    }
   ],
   "source": [
    "# 在Jupyter笔记本中使用\n",
    "from IPython.display import display\n",
    "import src.DataLoader as dl\n",
    "file_path = r'E:\\Mingle\\PythonCode\\Coates\\data\\2025-01-17_16-31-55_Delay-0_Width-200.raw'\n",
    "# file_path = '/Users/ming/Documents/PythonCode/Coates/data/2025-01-17_15-09-54_Delay-0_Width-200.raw'\n",
    "data_loader = dl.DataChecker(file_path, exposure=1000, gate_info=(0, 200))\n",
    "# 绘制单个像素的点云\n",
    "# point_cloud_single = data_loader.draw_point_cloud()\n",
    "# point_cloud_single.show()\n",
    "\n",
    "# 绘制所有像素的点云（使用较高的子采样因子提高性能）\n",
    "point_cloud_single = data_loader.draw_point_cloud()\n",
    "display(point_cloud_single)\n",
    "# layout = data_loader.draw_strength('original')\n",
    "# display(layout)\n",
    "\n",
    "\n",
    "# 第一，coates估计器输出的光场不是归一化的分布，直接*exposure会爆，继续修改仿真的结果,要参考update_coates_estimation(中生成直方图的思路\n",
    "# 第二，软件删去前10个bin是有问题的\n"
   ]
  }
 ],
 "metadata": {
  "kernelspec": {
   "display_name": "Mingle",
   "language": "python",
   "name": "python3"
  },
  "language_info": {
   "codemirror_mode": {
    "name": "ipython",
    "version": 3
   },
   "file_extension": ".py",
   "mimetype": "text/x-python",
   "name": "python",
   "nbconvert_exporter": "python",
   "pygments_lexer": "ipython3",
   "version": "3.12.9"
  }
 },
 "nbformat": 4,
 "nbformat_minor": 2
}
