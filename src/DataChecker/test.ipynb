{
 "cells": [
  {
   "cell_type": "code",
   "execution_count": null,
   "metadata": {},
   "outputs": [
    {
     "data": {
      "application/vnd.jupyter.widget-view+json": {
       "model_id": "3b1ed7d837634b93983388906d81e01d",
       "version_major": 2,
       "version_minor": 0
      },
      "text/plain": [
       "HBox(children=(FigureWidget({\n",
       "    'data': [{'colorscale': [[0.0, 'rgb(0, 0, 0)'], [0.09090909090909091, 'rgb(1…"
      ]
     },
     "metadata": {},
     "output_type": "display_data"
    }
   ],
   "source": [
    "import numpy as np\n",
    "import plotly.graph_objs as go\n",
    "from ipywidgets import HBox, VBox\n",
    "\n",
    "class DataChecker:\n",
    "    def __init__(self, file_path, exposure=500, gate_info=(0, 200)):\n",
    "        self.file_path = file_path\n",
    "        self.exposure = exposure\n",
    "        self.gate_info = (gate_info[0] + 15, gate_info[1] - 10)\n",
    "        self.matrix_data = None\n",
    "        self.load_data()\n",
    "\n",
    "    def load_data(self):\n",
    "        with open(self.file_path, 'rb') as f:\n",
    "            raw_data = np.frombuffer(f.read(), dtype=np.uint16)\n",
    "        if len(raw_data) % 4096 != 0:\n",
    "            raise ValueError(\"数据长度无法整除 4096，无法构建矩阵。\")\n",
    "        num_lines = len(raw_data) // 4096\n",
    "        self.matrix_data = raw_data.reshape(num_lines, 4096).astype(float)\n",
    "\n",
    "    def draw_strength(self):\n",
    "        if self.exposure > self.matrix_data.shape[0]:\n",
    "            raise ValueError(\"曝光时间超过文件大小\")\n",
    "\n",
    "        selected_data = self.matrix_data[:self.exposure, :]\n",
    "        mask = (selected_data >= self.gate_info[0]) & (selected_data < self.gate_info[1])\n",
    "        count_under = mask.sum(axis=0) / self.exposure\n",
    "        gray_values = np.round(count_under * 255).astype(int)\n",
    "\n",
    "        # 转置强度图\n",
    "        strength_matrix = gray_values.reshape(64, 64)\n",
    "        # strength_matrix = strength_matrix.T\n",
    "\n",
    "        fig_strength = go.FigureWidget(\n",
    "            data=[go.Heatmap(z=strength_matrix, colorscale='Gray', zmin=0, zmax=255)]\n",
    "        )\n",
    "        fig_strength.update_layout(\n",
    "            title=f\"强度图 - 延迟: {self.gate_info[0]}, 门宽: {self.gate_info[1] - self.gate_info[0]}\",\n",
    "            xaxis=dict(title=\"X\", scaleanchor='y', scaleratio=1),\n",
    "            yaxis=dict(title=\"Y\", autorange='reversed'),\n",
    "            width=512,\n",
    "            height=470,\n",
    "            autosize=False,\n",
    "            margin=dict(l=50, r=30, t=50, b=50)\n",
    "        )\n",
    "\n",
    "        fig_hist = go.FigureWidget(data=[go.Bar(x=[], y=[])])\n",
    "        fig_hist.update_layout(\n",
    "            title=\"光子直方图\",\n",
    "            xaxis=dict(title=\"Value\"),\n",
    "            yaxis=dict(title=\"Frequency\"),\n",
    "            width=1024,\n",
    "            height=470,\n",
    "            margin=dict(l=60, r=30, t=50, b=50)\n",
    "        )\n",
    "\n",
    "        @fig_strength.data[0].on_click\n",
    "        def update_hist(trace, points, state):\n",
    "            if points.xs and points.ys:\n",
    "                x_idx = points.xs[0]\n",
    "                y_idx = points.ys[0]\n",
    "                index = y_idx * 64 + x_idx\n",
    "                data = self.matrix_data[:self.exposure, index]\n",
    "                low, high = self.gate_info\n",
    "                filtered = data[(data >= low) & (data < high)]\n",
    "                hist_counts, bin_edges = np.histogram(filtered, bins=range(low, high + 1))\n",
    "                fig_hist.data[0].x = bin_edges[:-1]\n",
    "                fig_hist.data[0].y = hist_counts\n",
    "\n",
    "                flux_value = (len(filtered) / self.exposure) * 100\n",
    "                fig_hist.update_layout(\n",
    "                    title=f\"像素({x_idx}, {y_idx})的直方图\\n光通量: {flux_value:.2f}%\",\n",
    "                    xaxis=dict(range=[low, high])\n",
    "                )\n",
    "\n",
    "        layout = HBox([fig_strength, fig_hist])\n",
    "        return layout\n",
    "        \n",
    "\n",
    "    \n",
    "checker = DataChecker(file_path=\"/Users/ming/Documents/PythonCode/Coates/src/DataChecker/2025-01-17_15-09-54_Delay-0_Width-200.raw\", exposure=500, gate_info=(0, 200))\n",
    "display(checker.draw_strength())\n"
   ]
  },
  {
   "cell_type": "code",
   "execution_count": 1,
   "metadata": {},
   "outputs": [
    {
     "data": {
      "application/vnd.jupyter.widget-view+json": {
       "model_id": "276046213b91408b824800f1601c9edb",
       "version_major": 2,
       "version_minor": 0
      },
      "text/plain": [
       "HBox(children=(FigureWidget({\n",
       "    'data': [{'colorscale': [[0.0, 'rgb(0, 0, 0)'], [0.09090909090909091, 'rgb(1…"
      ]
     },
     "metadata": {},
     "output_type": "display_data"
    }
   ],
   "source": [
    "# 在Jupyter笔记本中使用\n",
    "from DataChecker import DataLoader\n",
    "from IPython.display import display\n",
    "\n",
    "file_path = '/Users/ming/Documents/PythonCode/Coates/src/DataChecker/2025-01-17_15-09-54_Delay-0_Width-200.raw'\n",
    "data_loader = DataLoader(file_path, exposure=500, gate_info=(0, 200))\n",
    "layout = data_loader.draw_strength()\n",
    "display(layout)  # 这在Jupyter中可以工作"
   ]
  }
 ],
 "metadata": {
  "kernelspec": {
   "display_name": "yolo",
   "language": "python",
   "name": "python3"
  },
  "language_info": {
   "codemirror_mode": {
    "name": "ipython",
    "version": 3
   },
   "file_extension": ".py",
   "mimetype": "text/x-python",
   "name": "python",
   "nbconvert_exporter": "python",
   "pygments_lexer": "ipython3",
   "version": "3.12.2"
  }
 },
 "nbformat": 4,
 "nbformat_minor": 2
}
