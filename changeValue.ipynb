{
 "cells": [
  {
   "cell_type": "code",
   "execution_count": null,
   "metadata": {},
   "outputs": [
    {
     "data": {
      "application/vnd.jupyter.widget-view+json": {
       "model_id": "95f4e85c0dbc4e15a5f5e095d6dd8c2c",
       "version_major": 2,
       "version_minor": 0
      },
      "text/plain": [
       "interactive(children=(IntSlider(value=50, description='Pulse Pos:'), IntSlider(value=100, description='Num Bin…"
      ]
     },
     "metadata": {},
     "output_type": "display_data"
    }
   ],
   "source": [
    "import src.GatingAlgo as ga\n",
    "import ipywidgets as widgets\n",
    "from IPython.display import display\n",
    "\n",
    "# 定义一个函数来封装现有代码，并接收多个参数\n",
    "def update_pulse_pos(pulse_pos, num_bins, pulse_width, signal_strength, bg_strength, num_cycles):\n",
    "    # 创建SingleGaussian实例\n",
    "    gating_algo = ga.SingleGaussian(num_bins, pulse_pos, pulse_width, signal_strength, bg_strength, num_cycles)\n",
    "\n",
    "    # 绘图\n",
    "    fig = gating_algo.plot_hist_plotly()\n",
    "\n",
    "# 创建滑块\n",
    "pulse_pos_slider = widgets.IntSlider(value=50, min=0, max=100, step=1, description='Pulse Pos:')\n",
    "num_bins_slider = widgets.IntSlider(value=100, min=10, max=200, step=10, description='Num Bins:')\n",
    "pulse_width_slider = widgets.IntSlider(value=3, min=1, max=10, step=1, description='Pulse Width:')\n",
    "signal_strength_slider = widgets.FloatSlider(value=0.6, min=0.0, max=1.0, step=0.01, description='Signal Strength:')\n",
    "bg_strength_slider = widgets.FloatSlider(value=0.04, min=0.0, max=0.2, step=0.01, description='BG Strength:')\n",
    "num_cycles_slider = widgets.IntSlider(value=5000, min=100, max=50000, step=100, description='Num Cycles:')\n",
    "\n",
    "# 创建交互式小部件并显示\n",
    "interactive_plot = widgets.interactive(update_pulse_pos, \n",
    "                                       pulse_pos=pulse_pos_slider, \n",
    "                                       num_bins=num_bins_slider, \n",
    "                                       pulse_width=pulse_width_slider, \n",
    "                                       signal_strength=signal_strength_slider, \n",
    "                                       bg_strength=bg_strength_slider, \n",
    "                                       num_cycles=num_cycles_slider)\n",
    "\n",
    "# 显示交互式小部件\n",
    "display(interactive_plot)"
   ]
  }
 ],
 "metadata": {
  "kernelspec": {
   "display_name": "yolo",
   "language": "python",
   "name": "python3"
  },
  "language_info": {
   "codemirror_mode": {
    "name": "ipython",
    "version": 3
   },
   "file_extension": ".py",
   "mimetype": "text/x-python",
   "name": "python",
   "nbconvert_exporter": "python",
   "pygments_lexer": "ipython3",
   "version": "3.12.2"
  }
 },
 "nbformat": 4,
 "nbformat_minor": 2
}
