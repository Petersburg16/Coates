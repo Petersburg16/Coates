{
 "cells": [
  {
   "cell_type": "code",
   "execution_count": 2,
   "metadata": {},
   "outputs": [
    {
     "data": {
      "text/html": [
       "\n",
       "        <iframe\n",
       "            width=\"100%\"\n",
       "            height=\"650\"\n",
       "            src=\"http://127.0.0.1:8051/\"\n",
       "            frameborder=\"0\"\n",
       "            allowfullscreen\n",
       "            \n",
       "        ></iframe>\n",
       "        "
      ],
      "text/plain": [
       "<IPython.lib.display.IFrame at 0x12f5a6510>"
      ]
     },
     "metadata": {},
     "output_type": "display_data"
    }
   ],
   "source": [
    "# 加载数据\n",
    "import src.DataLoader as data\n",
    "file_path = \"/Users/ming/Documents/PythonCode/Coates/data/2025-01-17_15-09-54_Delay-0_Width-200.raw\"\n",
    "visualizer= data.PointCloudVisualizer(file_path, exposure=4800, gate_info=(0, 150))\n",
    "visualizer.show()"
   ]
  },
  {
   "cell_type": "code",
   "execution_count": 3,
   "metadata": {},
   "outputs": [
    {
     "ename": "FileNotFoundError",
     "evalue": "Unable to open file: D:\\Mingle\\20250111_data\\没有雾\\大卫\\2025-01-11_20-20-13_Delay-0_Width-200.raw. Please check if the file path is correct.",
     "output_type": "error",
     "traceback": [
      "\u001b[31m---------------------------------------------------------------------------\u001b[39m",
      "\u001b[31mFileNotFoundError\u001b[39m                         Traceback (most recent call last)",
      "\u001b[36mFile \u001b[39m\u001b[32m~/Documents/PythonCode/Coates/src/DataLoader/DataLoader.py:33\u001b[39m, in \u001b[36mDataLoader.load_data\u001b[39m\u001b[34m(self)\u001b[39m\n\u001b[32m     32\u001b[39m \u001b[38;5;28;01mtry\u001b[39;00m:\n\u001b[32m---> \u001b[39m\u001b[32m33\u001b[39m     \u001b[38;5;28;01mwith\u001b[39;00m \u001b[38;5;28;43mopen\u001b[39;49m\u001b[43m(\u001b[49m\u001b[38;5;28;43mself\u001b[39;49m\u001b[43m.\u001b[49m\u001b[43m_file_path\u001b[49m\u001b[43m,\u001b[49m\u001b[43m \u001b[49m\u001b[33;43m'\u001b[39;49m\u001b[33;43mrb\u001b[39;49m\u001b[33;43m'\u001b[39;49m\u001b[43m)\u001b[49m \u001b[38;5;28;01mas\u001b[39;00m f:\n\u001b[32m     34\u001b[39m         raw_data = np.frombuffer(f.read(), dtype=np.uint16)\n",
      "\u001b[31mFileNotFoundError\u001b[39m: [Errno 2] No such file or directory: 'D:\\\\Mingle\\\\20250111_data\\\\没有雾\\\\大卫\\\\2025-01-11_20-20-13_Delay-0_Width-200.raw'",
      "\nDuring handling of the above exception, another exception occurred:\n",
      "\u001b[31mFileNotFoundError\u001b[39m                         Traceback (most recent call last)",
      "\u001b[36mCell\u001b[39m\u001b[36m \u001b[39m\u001b[32mIn[3]\u001b[39m\u001b[32m, line 4\u001b[39m\n\u001b[32m      2\u001b[39m \u001b[38;5;28;01mimport\u001b[39;00m\u001b[38;5;250m \u001b[39m\u001b[34;01msrc\u001b[39;00m\u001b[34;01m.\u001b[39;00m\u001b[34;01mDataLoader\u001b[39;00m\u001b[38;5;250m \u001b[39m\u001b[38;5;28;01mas\u001b[39;00m\u001b[38;5;250m \u001b[39m\u001b[34;01mdata\u001b[39;00m\n\u001b[32m      3\u001b[39m file_path = \u001b[33mr\u001b[39m\u001b[33m\"\u001b[39m\u001b[33mD:\u001b[39m\u001b[33m\\\u001b[39m\u001b[33mMingle\u001b[39m\u001b[33m\\\u001b[39m\u001b[33m20250111_data\u001b[39m\u001b[33m\\\u001b[39m\u001b[33m没有雾\u001b[39m\u001b[33m\\\u001b[39m\u001b[33m大卫\u001b[39m\u001b[33m\\\u001b[39m\u001b[33m2025-01-11_20-20-13_Delay-0_Width-200.raw\u001b[39m\u001b[33m\"\u001b[39m\n\u001b[32m----> \u001b[39m\u001b[32m4\u001b[39m data_loader = \u001b[43mdata\u001b[49m\u001b[43m.\u001b[49m\u001b[43mPointCloudVisualizer\u001b[49m\u001b[43m(\u001b[49m\u001b[43mfile_path\u001b[49m\u001b[43m,\u001b[49m\u001b[43m \u001b[49m\u001b[43mexposure\u001b[49m\u001b[43m=\u001b[49m\u001b[32;43m3000\u001b[39;49m\u001b[43m,\u001b[49m\u001b[43m \u001b[49m\u001b[43mgate_info\u001b[49m\u001b[43m=\u001b[49m\u001b[43m(\u001b[49m\u001b[32;43m0\u001b[39;49m\u001b[43m,\u001b[49m\u001b[43m \u001b[49m\u001b[32;43m200\u001b[39;49m\u001b[43m)\u001b[49m\u001b[43m)\u001b[49m\n\u001b[32m      5\u001b[39m point_cloud_single = data_loader.draw_point_cloud_plotly()\n\u001b[32m      6\u001b[39m display(point_cloud_single)\n",
      "\u001b[36mFile \u001b[39m\u001b[32m~/Documents/PythonCode/Coates/src/DataLoader/DataLoader.py:19\u001b[39m, in \u001b[36mDataLoader.__init__\u001b[39m\u001b[34m(self, file_path, exposure, gate_info)\u001b[39m\n\u001b[32m     16\u001b[39m \u001b[38;5;28mself\u001b[39m._exposure=exposure\n\u001b[32m     17\u001b[39m \u001b[38;5;28mself\u001b[39m._gate_info=(gate_info[\u001b[32m0\u001b[39m] , gate_info[\u001b[32m1\u001b[39m] - \u001b[32m10\u001b[39m)\n\u001b[32m---> \u001b[39m\u001b[32m19\u001b[39m \u001b[38;5;28;43mself\u001b[39;49m\u001b[43m.\u001b[49m\u001b[43mload_data\u001b[49m\u001b[43m(\u001b[49m\u001b[43m)\u001b[49m\n\u001b[32m     20\u001b[39m \u001b[38;5;28mself\u001b[39m.update_strength_matrix()\n\u001b[32m     21\u001b[39m \u001b[38;5;28mself\u001b[39m.update_tensor_data()\n",
      "\u001b[36mFile \u001b[39m\u001b[32m~/Documents/PythonCode/Coates/src/DataLoader/DataLoader.py:40\u001b[39m, in \u001b[36mDataLoader.load_data\u001b[39m\u001b[34m(self)\u001b[39m\n\u001b[32m     38\u001b[39m     \u001b[38;5;28mself\u001b[39m._matrix_data = raw_data.reshape(num_lines, \u001b[32m4096\u001b[39m).astype(\u001b[38;5;28mfloat\u001b[39m)\n\u001b[32m     39\u001b[39m \u001b[38;5;28;01mexcept\u001b[39;00m \u001b[38;5;167;01mFileNotFoundError\u001b[39;00m:\n\u001b[32m---> \u001b[39m\u001b[32m40\u001b[39m     \u001b[38;5;28;01mraise\u001b[39;00m \u001b[38;5;167;01mFileNotFoundError\u001b[39;00m(\u001b[33mf\u001b[39m\u001b[33m\"\u001b[39m\u001b[33mUnable to open file: \u001b[39m\u001b[38;5;132;01m{\u001b[39;00m\u001b[38;5;28mself\u001b[39m._file_path\u001b[38;5;132;01m}\u001b[39;00m\u001b[33m. Please check if the file path is correct.\u001b[39m\u001b[33m\"\u001b[39m)\n\u001b[32m     41\u001b[39m \u001b[38;5;28;01mexcept\u001b[39;00m \u001b[38;5;167;01mPermissionError\u001b[39;00m:\n\u001b[32m     42\u001b[39m     \u001b[38;5;28;01mraise\u001b[39;00m \u001b[38;5;167;01mPermissionError\u001b[39;00m(\u001b[33mf\u001b[39m\u001b[33m\"\u001b[39m\u001b[33mNo permission to read the file: \u001b[39m\u001b[38;5;132;01m{\u001b[39;00m\u001b[38;5;28mself\u001b[39m._file_path\u001b[38;5;132;01m}\u001b[39;00m\u001b[33m. Please check the file permissions.\u001b[39m\u001b[33m\"\u001b[39m)\n",
      "\u001b[31mFileNotFoundError\u001b[39m: Unable to open file: D:\\Mingle\\20250111_data\\没有雾\\大卫\\2025-01-11_20-20-13_Delay-0_Width-200.raw. Please check if the file path is correct."
     ]
    }
   ],
   "source": [
    "from IPython.display import display\n",
    "import src.DataLoader as data\n",
    "file_path = r\"D:\\Mingle\\20250111_data\\没有雾\\大卫\\2025-01-11_20-20-13_Delay-0_Width-200.raw\"\n",
    "data_loader = data.PointCloudVisualizer(file_path, exposure=3000, gate_info=(0, 200))\n",
    "point_cloud_single = data_loader.draw_point_cloud_plotly()\n",
    "display(point_cloud_single)"
   ]
  }
 ],
 "metadata": {
  "kernelspec": {
   "display_name": "Mingle",
   "language": "python",
   "name": "python3"
  },
  "language_info": {
   "codemirror_mode": {
    "name": "ipython",
    "version": 3
   },
   "file_extension": ".py",
   "mimetype": "text/x-python",
   "name": "python",
   "nbconvert_exporter": "python",
   "pygments_lexer": "ipython3",
   "version": "3.13.2"
  }
 },
 "nbformat": 4,
 "nbformat_minor": 2
}
