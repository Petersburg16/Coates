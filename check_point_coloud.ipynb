{
 "cells": [
  {
   "cell_type": "code",
   "execution_count": 3,
   "metadata": {},
   "outputs": [
    {
     "data": {
      "text/html": [
       "\n",
       "        <iframe\n",
       "            width=\"100%\"\n",
       "            height=\"650\"\n",
       "            src=\"http://127.0.0.1:8051/\"\n",
       "            frameborder=\"0\"\n",
       "            allowfullscreen\n",
       "            \n",
       "        ></iframe>\n",
       "        "
      ],
      "text/plain": [
       "<IPython.lib.display.IFrame at 0x21292972710>"
      ]
     },
     "metadata": {},
     "output_type": "display_data"
    }
   ],
   "source": [
    "# 加载数据\n",
    "import src.DataLoader as data\n",
    "file_path = r\"G:\\20250323_data\\data\\2025-03-23_15-20-43_Delay-20_Width-200.raw\"\n",
    "visualizer= data.PointCloudVisualizer(file_path, exposure=4800, gate_info=(0, 150))\n",
    "visualizer.show()"
   ]
  },
  {
   "cell_type": "code",
   "execution_count": 4,
   "metadata": {},
   "outputs": [
    {
     "data": {
      "application/vnd.jupyter.widget-view+json": {
       "model_id": "de1eb8bc51ef4dadbbd82d938b4926da",
       "version_major": 2,
       "version_minor": 0
      },
      "text/plain": [
       "VBox(children=(FigureWidget({\n",
       "    'data': [{'customdata': {'bdata': ('AQABAAEAAgACAAQAAwABAAMAAQABAA' ... 'ACA…"
      ]
     },
     "metadata": {},
     "output_type": "display_data"
    }
   ],
   "source": [
    "from IPython.display import display\n",
    "import src.DataLoader as data\n",
    "file_path = r\"D:\\Mingle\\20250111_data\\没有雾\\大卫\\2025-01-11_20-20-13_Delay-0_Width-200.raw\"\n",
    "data_loader = data.PointCloudVisualizer(file_path, exposure=3000, gate_info=(0, 200))\n",
    "point_cloud_single = data_loader.draw_point_cloud_plotly()\n",
    "display(point_cloud_single)"
   ]
  }
 ],
 "metadata": {
  "kernelspec": {
   "display_name": "Mingle-dash",
   "language": "python",
   "name": "python3"
  },
  "language_info": {
   "codemirror_mode": {
    "name": "ipython",
    "version": 3
   },
   "file_extension": ".py",
   "mimetype": "text/x-python",
   "name": "python",
   "nbconvert_exporter": "python",
   "pygments_lexer": "ipython3",
   "version": "3.13.2"
  }
 },
 "nbformat": 4,
 "nbformat_minor": 2
}
