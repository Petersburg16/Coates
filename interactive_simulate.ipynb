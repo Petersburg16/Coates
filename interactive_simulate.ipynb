{
 "cells": [
  {
   "cell_type": "code",
   "execution_count": 2,
   "metadata": {},
   "outputs": [
    {
     "data": {
      "application/vnd.jupyter.widget-view+json": {
       "model_id": "cecf18a544cf4598a15c42774adab96d",
       "version_major": 2,
       "version_minor": 0
      },
      "text/plain": [
       "HBox(children=(VBox(children=(IntSlider(value=34, description='脉冲位置：'), IntSlider(value=3, description='脉冲宽度：'…"
      ]
     },
     "metadata": {},
     "output_type": "display_data"
    },
    {
     "data": {
      "application/vnd.jupyter.widget-view+json": {
       "model_id": "ec0e5daf29b74016917a2766f39b44eb",
       "version_major": 2,
       "version_minor": 0
      },
      "text/plain": [
       "Output()"
      ]
     },
     "metadata": {},
     "output_type": "display_data"
    }
   ],
   "source": [
    "import src.GatingSimulator as gs\n",
    "import ipywidgets as widgets\n",
    "from IPython.display import display\n",
    "\n",
    "# 封装功能的函数\n",
    "def update_pulse_pos(pulse_pos, num_bins, pulse_width, signal_strength, bg_strength, num_cycles):\n",
    "    gating_algo = gs.SingleGaussian(num_bins, pulse_pos, pulse_width, signal_strength, bg_strength, num_cycles)\n",
    "    return gating_algo.plot_combined_hist_mle()\n",
    "\n",
    "# 创建所有滑块\n",
    "sliders = {\n",
    "    'num_bins': widgets.IntSlider(value=100, min=10, max=200, step=10, description='总timebins：'),\n",
    "    'pulse_width': widgets.IntSlider(value=3, min=1, max=10, step=1, description='脉冲宽度：'),\n",
    "    'signal_strength': widgets.FloatSlider(value=0.6, min=0.0, max=1.0, step=0.01, description='脉冲强度：'),\n",
    "    'bg_strength': widgets.FloatSlider(value=0.04, min=0.0, max=0.2, step=0.01, description='背景强度：'),\n",
    "    'num_cycles': widgets.IntSlider(value=3000, min=100, max=10000, step=100, description='采集帧数：')\n",
    "}\n",
    "# 创建脉冲位置滑块，最大值依赖于num_bins\n",
    "sliders['pulse_pos'] = widgets.IntSlider(value=min(34, sliders['num_bins'].value), min=0, max=sliders['num_bins'].value, step=1, description='脉冲位置：')\n",
    "\n",
    "# 更新脉冲位置滑块的最大值\n",
    "def update_pulse_pos_max(change):\n",
    "    sliders['pulse_pos'].max = change.new\n",
    "    # 如果当前值超过新的最大值，则将其调整为最大值\n",
    "    if sliders['pulse_pos'].value > change.new:\n",
    "        sliders['pulse_pos'].value = change.new\n",
    "# 监听num_bins的变化\n",
    "sliders['num_bins'].observe(update_pulse_pos_max, names='value')\n",
    "\n",
    "# 创建布局\n",
    "left_box = widgets.VBox([sliders['pulse_pos'], sliders['pulse_width'], sliders['signal_strength']])\n",
    "right_box = widgets.VBox([sliders['bg_strength'], sliders['num_bins'], sliders['num_cycles']])\n",
    "hbox = widgets.HBox([left_box, right_box])\n",
    "\n",
    "# 创建交互式小部件\n",
    "interactive_plot = widgets.interactive(update_pulse_pos, **sliders)\n",
    "\n",
    "# 显示布局和图形\n",
    "display(hbox)\n",
    "display(interactive_plot.children[-1])  # 只显示输出部分\n"
   ]
  },
  {
   "cell_type": "code",
   "execution_count": 1,
   "metadata": {},
   "outputs": [
    {
     "data": {
      "application/vnd.jupyter.widget-view+json": {
       "model_id": "26f9f8f360c7404fa923a2ebd929e7cc",
       "version_major": 2,
       "version_minor": 0
      },
      "text/plain": [
       "HBox(children=(VBox(children=(IntSlider(value=40, description='脉冲1位置：'), IntSlider(value=2, description='脉冲1宽度…"
      ]
     },
     "metadata": {},
     "output_type": "display_data"
    },
    {
     "data": {
      "application/vnd.jupyter.widget-view+json": {
       "model_id": "4cf5b65c0b774c25b378561bfec7256a",
       "version_major": 2,
       "version_minor": 0
      },
      "text/plain": [
       "Output()"
      ]
     },
     "metadata": {},
     "output_type": "display_data"
    }
   ],
   "source": [
    "import src.GatingSimulator as gs\n",
    "import ipywidgets as widgets\n",
    "from IPython.display import display\n",
    "\n",
    "# 封装DoubleGaussian功能的函数\n",
    "def update_double_gaussian(pulse_pos1, pulse_pos2, num_bins, pulse_width1, pulse_width2, \n",
    "                          signal_strength1, signal_strength2, bg_strength, num_cycles):\n",
    "    gating_algo_double = gs.DoubleGaussian(num_bins, pulse_pos1, pulse_pos2, pulse_width1, pulse_width2, \n",
    "                                         signal_strength1, signal_strength2, bg_strength, num_cycles)\n",
    "    return gating_algo_double.plot_combined_hist_mle()\n",
    "\n",
    "# 创建DoubleGaussian所需的滑块\n",
    "double_sliders = {\n",
    "    'num_bins': widgets.IntSlider(value=100, min=10, max=200, step=10, description='总timebins：'),\n",
    "    'pulse_width1': widgets.IntSlider(value=2, min=1, max=10, step=1, description='脉冲1宽度：'),\n",
    "    'pulse_width2': widgets.IntSlider(value=2, min=1, max=10, step=1, description='脉冲2宽度：'),\n",
    "    'signal_strength1': widgets.FloatSlider(value=0.4, min=0.0, max=1.0, step=0.01, description='脉冲1强度：'),\n",
    "    'signal_strength2': widgets.FloatSlider(value=0.2, min=0.0, max=1.0, step=0.01, description='脉冲2强度：'),\n",
    "    'bg_strength': widgets.FloatSlider(value=0.04, min=0.0, max=0.2, step=0.01, description='背景强度：'),\n",
    "    'num_cycles': widgets.IntSlider(value=5000, min=100, max=10000, step=100, description='采集帧数：')\n",
    "}\n",
    "\n",
    "# 创建脉冲位置滑块，最大值依赖于num_bins\n",
    "double_sliders['pulse_pos1'] = widgets.IntSlider(value=40, min=0, max=double_sliders['num_bins'].value, step=1, description='脉冲1位置：')\n",
    "double_sliders['pulse_pos2'] = widgets.IntSlider(value=70, min=0, max=double_sliders['num_bins'].value, step=1, description='脉冲2位置：')\n",
    "\n",
    "# 更新脉冲位置滑块的最大值\n",
    "def update_double_pulse_pos_max(change):\n",
    "    double_sliders['pulse_pos1'].max = change.new\n",
    "    double_sliders['pulse_pos2'].max = change.new\n",
    "    # 如果当前值超过新的最大值，则将其调整为最大值\n",
    "    if double_sliders['pulse_pos1'].value > change.new:\n",
    "        double_sliders['pulse_pos1'].value = change.new\n",
    "    if double_sliders['pulse_pos2'].value > change.new:\n",
    "        double_sliders['pulse_pos2'].value = change.new\n",
    "\n",
    "# 监听num_bins的变化\n",
    "double_sliders['num_bins'].observe(update_double_pulse_pos_max, names='value')\n",
    "\n",
    "# 创建布局\n",
    "left_box_double = widgets.VBox([\n",
    "    double_sliders['pulse_pos1'], \n",
    "    double_sliders['pulse_width1'],\n",
    "    double_sliders['signal_strength1']\n",
    "])\n",
    "\n",
    "center_box_double = widgets.VBox([\n",
    "    double_sliders['pulse_pos2'],\n",
    "    double_sliders['pulse_width2'],\n",
    "    double_sliders['signal_strength2']\n",
    "])\n",
    "\n",
    "right_box_double = widgets.VBox([\n",
    "    double_sliders['bg_strength'],\n",
    "    double_sliders['num_bins'],\n",
    "    double_sliders['num_cycles']\n",
    "    ])\n",
    "\n",
    "hbox_double = widgets.HBox([left_box_double, center_box_double, right_box_double])\n",
    "\n",
    "# 创建交互式小部件\n",
    "interactive_plot_double = widgets.interactive(update_double_gaussian, **double_sliders)\n",
    "\n",
    "# 显示布局和图形\n",
    "display(hbox_double)\n",
    "display(interactive_plot_double.children[-1])  # 只显示输出部分"
   ]
  }
 ],
 "metadata": {
  "kernelspec": {
   "display_name": "Mingle-dash",
   "language": "python",
   "name": "python3"
  },
  "language_info": {
   "codemirror_mode": {
    "name": "ipython",
    "version": 3
   },
   "file_extension": ".py",
   "mimetype": "text/x-python",
   "name": "python",
   "nbconvert_exporter": "python",
   "pygments_lexer": "ipython3",
   "version": "3.13.2"
  }
 },
 "nbformat": 4,
 "nbformat_minor": 2
}
