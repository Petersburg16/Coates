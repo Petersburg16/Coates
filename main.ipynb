{
 "cells": [
  {
   "cell_type": "code",
   "execution_count": 2,
   "metadata": {},
   "outputs": [
    {
     "ename": "ImportError",
     "evalue": "cannot import name 'DataChecker' from 'src.DataLoader.DataLoader' (/Users/ming/Documents/PythonCode/Coates/src/DataLoader/DataLoader.py)",
     "output_type": "error",
     "traceback": [
      "\u001b[0;31m---------------------------------------------------------------------------\u001b[0m",
      "\u001b[0;31mImportError\u001b[0m                               Traceback (most recent call last)",
      "Cell \u001b[0;32mIn[2], line 1\u001b[0m\n\u001b[0;32m----> 1\u001b[0m \u001b[38;5;28;01mimport\u001b[39;00m \u001b[38;5;21;01msrc\u001b[39;00m\u001b[38;5;21;01m.\u001b[39;00m\u001b[38;5;21;01mGatingAlgo\u001b[39;00m \u001b[38;5;28;01mas\u001b[39;00m \u001b[38;5;21;01mga\u001b[39;00m\n\u001b[1;32m      3\u001b[0m \u001b[38;5;66;03m# SingleGaussian参数设置\u001b[39;00m\n\u001b[1;32m      4\u001b[0m num_bins \u001b[38;5;241m=\u001b[39m \u001b[38;5;241m100\u001b[39m\n",
      "File \u001b[0;32m~/Documents/PythonCode/Coates/src/__init__.py:2\u001b[0m\n\u001b[1;32m      1\u001b[0m \u001b[38;5;28;01mfrom\u001b[39;00m \u001b[38;5;21;01m.\u001b[39;00m \u001b[38;5;28;01mimport\u001b[39;00m GatingAlgo\n\u001b[0;32m----> 2\u001b[0m \u001b[38;5;28;01mfrom\u001b[39;00m \u001b[38;5;21;01m.\u001b[39;00m \u001b[38;5;28;01mimport\u001b[39;00m DataLoader\n",
      "File \u001b[0;32m~/Documents/PythonCode/Coates/src/DataLoader/__init__.py:2\u001b[0m\n\u001b[1;32m      1\u001b[0m \u001b[38;5;28;01mfrom\u001b[39;00m \u001b[38;5;21;01m.\u001b[39;00m\u001b[38;5;21;01mDataLoader\u001b[39;00m \u001b[38;5;28;01mimport\u001b[39;00m DataLoader\n\u001b[0;32m----> 2\u001b[0m \u001b[38;5;28;01mfrom\u001b[39;00m \u001b[38;5;21;01m.\u001b[39;00m\u001b[38;5;21;01mDataLoader\u001b[39;00m \u001b[38;5;28;01mimport\u001b[39;00m DataChecker\n\u001b[1;32m      4\u001b[0m __all__ \u001b[38;5;241m=\u001b[39m [\u001b[38;5;124m'\u001b[39m\u001b[38;5;124mDataLoader\u001b[39m\u001b[38;5;124m'\u001b[39m, \u001b[38;5;124m'\u001b[39m\u001b[38;5;124mDataChecker\u001b[39m\u001b[38;5;124m'\u001b[39m]\n",
      "\u001b[0;31mImportError\u001b[0m: cannot import name 'DataChecker' from 'src.DataLoader.DataLoader' (/Users/ming/Documents/PythonCode/Coates/src/DataLoader/DataLoader.py)"
     ]
    }
   ],
   "source": [
    "import src.GatingAlgo as ga\n",
    "\n",
    "# SingleGaussian参数设置\n",
    "num_bins = 100\n",
    "pulse_pos = 40\n",
    "pulse_width = 3\n",
    "signal_strength = 0.9\n",
    "bg_strength = 0.04\n",
    "num_cycles = 5000\n",
    "\n",
    "# 创建SingleGaussian实例\n",
    "gating_algo = ga.SingleGaussian(num_bins, pulse_pos, pulse_width, signal_strength, bg_strength, num_cycles)\n",
    "\n",
    "# 绘图\n",
    "gating_algo.plot_combined_hist_mle()"
   ]
  },
  {
   "cell_type": "code",
   "execution_count": 1,
   "metadata": {},
   "outputs": [
    {
     "ename": "ImportError",
     "evalue": "cannot import name 'DataChecker' from 'src.DataLoader.DataLoader' (/Users/ming/Documents/PythonCode/Coates/src/DataLoader/DataLoader.py)",
     "output_type": "error",
     "traceback": [
      "\u001b[0;31m---------------------------------------------------------------------------\u001b[0m",
      "\u001b[0;31mImportError\u001b[0m                               Traceback (most recent call last)",
      "Cell \u001b[0;32mIn[1], line 1\u001b[0m\n\u001b[0;32m----> 1\u001b[0m \u001b[38;5;28;01mimport\u001b[39;00m \u001b[38;5;21;01msrc\u001b[39;00m\u001b[38;5;21;01m.\u001b[39;00m\u001b[38;5;21;01mGatingAlgo\u001b[39;00m \u001b[38;5;28;01mas\u001b[39;00m \u001b[38;5;21;01mga\u001b[39;00m\n\u001b[1;32m      2\u001b[0m \u001b[38;5;66;03m# DoubleGaussian参数设置\u001b[39;00m\n\u001b[1;32m      3\u001b[0m num_bins \u001b[38;5;241m=\u001b[39m \u001b[38;5;241m100\u001b[39m\n",
      "File \u001b[0;32m~/Documents/PythonCode/Coates/src/__init__.py:2\u001b[0m\n\u001b[1;32m      1\u001b[0m \u001b[38;5;28;01mfrom\u001b[39;00m \u001b[38;5;21;01m.\u001b[39;00m \u001b[38;5;28;01mimport\u001b[39;00m GatingAlgo\n\u001b[0;32m----> 2\u001b[0m \u001b[38;5;28;01mfrom\u001b[39;00m \u001b[38;5;21;01m.\u001b[39;00m \u001b[38;5;28;01mimport\u001b[39;00m DataLoader\n",
      "File \u001b[0;32m~/Documents/PythonCode/Coates/src/DataLoader/__init__.py:2\u001b[0m\n\u001b[1;32m      1\u001b[0m \u001b[38;5;28;01mfrom\u001b[39;00m \u001b[38;5;21;01m.\u001b[39;00m\u001b[38;5;21;01mDataLoader\u001b[39;00m \u001b[38;5;28;01mimport\u001b[39;00m DataLoader\n\u001b[0;32m----> 2\u001b[0m \u001b[38;5;28;01mfrom\u001b[39;00m \u001b[38;5;21;01m.\u001b[39;00m\u001b[38;5;21;01mDataLoader\u001b[39;00m \u001b[38;5;28;01mimport\u001b[39;00m DataChecker\n\u001b[1;32m      4\u001b[0m __all__ \u001b[38;5;241m=\u001b[39m [\u001b[38;5;124m'\u001b[39m\u001b[38;5;124mDataLoader\u001b[39m\u001b[38;5;124m'\u001b[39m, \u001b[38;5;124m'\u001b[39m\u001b[38;5;124mDataChecker\u001b[39m\u001b[38;5;124m'\u001b[39m]\n",
      "\u001b[0;31mImportError\u001b[0m: cannot import name 'DataChecker' from 'src.DataLoader.DataLoader' (/Users/ming/Documents/PythonCode/Coates/src/DataLoader/DataLoader.py)"
     ]
    }
   ],
   "source": [
    "import src.GatingAlgo as ga\n",
    "# DoubleGaussian参数设置\n",
    "num_bins = 100\n",
    "pulse_pos1 = 40\n",
    "pulse_pos2 = 70\n",
    "pulse_width1 = 2\n",
    "pulse_width2 = 2\n",
    "signal_strength1 = 0.4\n",
    "signal_strength2 = 0.2\n",
    "bg_strength = 0.04\n",
    "num_cycles = 5000\n",
    "\n",
    "# 创建DoubleGaussian实例\n",
    "gating_algo_double = ga.DoubleGaussian(num_bins, pulse_pos1, pulse_pos2, pulse_width1, pulse_width2, signal_strength1, signal_strength2, bg_strength, num_cycles)\n",
    "    \n",
    "# 绘图\n",
    "gating_algo_double.plot_combined_hist_mle()\n"
   ]
  },
  {
   "cell_type": "code",
   "execution_count": 4,
   "metadata": {},
   "outputs": [
    {
     "ename": "ImportError",
     "evalue": "cannot import name 'DataChecker' from 'src.DataLoader.DataLoader' (/Users/ming/Documents/PythonCode/Coates/src/DataLoader/DataLoader.py)",
     "output_type": "error",
     "traceback": [
      "\u001b[0;31m---------------------------------------------------------------------------\u001b[0m",
      "\u001b[0;31mImportError\u001b[0m                               Traceback (most recent call last)",
      "Cell \u001b[0;32mIn[4], line 2\u001b[0m\n\u001b[1;32m      1\u001b[0m \u001b[38;5;28;01mfrom\u001b[39;00m \u001b[38;5;21;01mIPython\u001b[39;00m\u001b[38;5;21;01m.\u001b[39;00m\u001b[38;5;21;01mdisplay\u001b[39;00m \u001b[38;5;28;01mimport\u001b[39;00m display\n\u001b[0;32m----> 2\u001b[0m \u001b[38;5;28;01mimport\u001b[39;00m \u001b[38;5;21;01msrc\u001b[39;00m\u001b[38;5;21;01m.\u001b[39;00m\u001b[38;5;21;01mDataLoader\u001b[39;00m \u001b[38;5;28;01mas\u001b[39;00m \u001b[38;5;21;01mdl\u001b[39;00m\n\u001b[1;32m      4\u001b[0m file_path \u001b[38;5;241m=\u001b[39m \u001b[38;5;124m'\u001b[39m\u001b[38;5;124m/Users/ming/Documents/PythonCode/Coates/data/2025-01-17_15-09-54_Delay-0_Width-200.raw\u001b[39m\u001b[38;5;124m'\u001b[39m\n\u001b[1;32m      5\u001b[0m data_loader \u001b[38;5;241m=\u001b[39m dl\u001b[38;5;241m.\u001b[39mDataChecker(file_path, exposure\u001b[38;5;241m=\u001b[39m\u001b[38;5;241m5000\u001b[39m, gate_info\u001b[38;5;241m=\u001b[39m(\u001b[38;5;241m0\u001b[39m, \u001b[38;5;241m200\u001b[39m))\n",
      "File \u001b[0;32m~/Documents/PythonCode/Coates/src/__init__.py:2\u001b[0m\n\u001b[1;32m      1\u001b[0m \u001b[38;5;28;01mfrom\u001b[39;00m \u001b[38;5;21;01m.\u001b[39;00m \u001b[38;5;28;01mimport\u001b[39;00m GatingAlgo\n\u001b[0;32m----> 2\u001b[0m \u001b[38;5;28;01mfrom\u001b[39;00m \u001b[38;5;21;01m.\u001b[39;00m \u001b[38;5;28;01mimport\u001b[39;00m DataLoader\n",
      "File \u001b[0;32m~/Documents/PythonCode/Coates/src/DataLoader/__init__.py:2\u001b[0m\n\u001b[1;32m      1\u001b[0m \u001b[38;5;28;01mfrom\u001b[39;00m \u001b[38;5;21;01m.\u001b[39;00m\u001b[38;5;21;01mDataLoader\u001b[39;00m \u001b[38;5;28;01mimport\u001b[39;00m DataLoader\n\u001b[0;32m----> 2\u001b[0m \u001b[38;5;28;01mfrom\u001b[39;00m \u001b[38;5;21;01m.\u001b[39;00m\u001b[38;5;21;01mDataLoader\u001b[39;00m \u001b[38;5;28;01mimport\u001b[39;00m DataChecker\n\u001b[1;32m      4\u001b[0m __all__ \u001b[38;5;241m=\u001b[39m [\u001b[38;5;124m'\u001b[39m\u001b[38;5;124mDataLoader\u001b[39m\u001b[38;5;124m'\u001b[39m, \u001b[38;5;124m'\u001b[39m\u001b[38;5;124mDataChecker\u001b[39m\u001b[38;5;124m'\u001b[39m]\n",
      "\u001b[0;31mImportError\u001b[0m: cannot import name 'DataChecker' from 'src.DataLoader.DataLoader' (/Users/ming/Documents/PythonCode/Coates/src/DataLoader/DataLoader.py)"
     ]
    }
   ],
   "source": [
    "from IPython.display import display\n",
    "import src.DataLoader as dl\n",
    "\n",
    "file_path = '/Users/ming/Documents/PythonCode/Coates/data/2025-01-17_15-09-54_Delay-0_Width-200.raw'\n",
    "data_loader = dl.DataChecker(file_path, exposure=5000, gate_info=(0, 200))\n",
    "layout = data_loader.draw_strength()\n",
    "display(layout) "
   ]
  }
 ],
 "metadata": {
  "kernelspec": {
   "display_name": "yolo",
   "language": "python",
   "name": "python3"
  },
  "language_info": {
   "codemirror_mode": {
    "name": "ipython",
    "version": 3
   },
   "file_extension": ".py",
   "mimetype": "text/x-python",
   "name": "python",
   "nbconvert_exporter": "python",
   "pygments_lexer": "ipython3",
   "version": "3.12.2"
  }
 },
 "nbformat": 4,
 "nbformat_minor": 2
}
