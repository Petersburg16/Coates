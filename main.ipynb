{
 "cells": [
  {
   "cell_type": "code",
   "execution_count": null,
   "metadata": {},
   "outputs": [
    {
     "ename": "ValueError",
     "evalue": "lam value too large",
     "output_type": "error",
     "traceback": [
      "\u001b[0;31m---------------------------------------------------------------------------\u001b[0m",
      "\u001b[0;31mValueError\u001b[0m                                Traceback (most recent call last)",
      "Cell \u001b[0;32mIn[1], line 12\u001b[0m\n\u001b[1;32m      9\u001b[0m num_cycles \u001b[38;5;241m=\u001b[39m \u001b[38;5;241m5000\u001b[39m\n\u001b[1;32m     11\u001b[0m \u001b[38;5;66;03m# 创建SingleGaussian实例\u001b[39;00m\n\u001b[0;32m---> 12\u001b[0m gating_algo \u001b[38;5;241m=\u001b[39m ga\u001b[38;5;241m.\u001b[39mSingleGaussian(num_bins, pulse_pos, pulse_width, signal_strength, bg_strength, num_cycles)\n\u001b[1;32m     14\u001b[0m \u001b[38;5;66;03m# 绘图\u001b[39;00m\n\u001b[1;32m     15\u001b[0m \u001b[38;5;66;03m# gating_algo.plot_hist_plotly()\u001b[39;00m\n\u001b[1;32m     16\u001b[0m gating_algo\u001b[38;5;241m.\u001b[39mplot_coates_estimation()\n",
      "File \u001b[0;32m~/Documents/PythonCode/Coates/src/GatingAlgo.py:254\u001b[0m, in \u001b[0;36mSingleGaussian.__init__\u001b[0;34m(self, num_bins, pulse_pos, pulse_width, signal_strength, bg_strength, cycles)\u001b[0m\n\u001b[1;32m    252\u001b[0m \u001b[38;5;28mself\u001b[39m\u001b[38;5;241m.\u001b[39m_pulse_pos \u001b[38;5;241m=\u001b[39m pulse_pos\n\u001b[1;32m    253\u001b[0m \u001b[38;5;28mself\u001b[39m\u001b[38;5;241m.\u001b[39m_pulse_width \u001b[38;5;241m=\u001b[39m pulse_width\n\u001b[0;32m--> 254\u001b[0m \u001b[38;5;28msuper\u001b[39m()\u001b[38;5;241m.\u001b[39m\u001b[38;5;21m__init__\u001b[39m(num_bins, signal_strength, bg_strength, cycles)\n",
      "File \u001b[0;32m~/Documents/PythonCode/Coates/src/GatingAlgo.py:16\u001b[0m, in \u001b[0;36mSPADSimulateEngine.__init__\u001b[0;34m(self, num_bins, signal_strength, bg_strength, cycles)\u001b[0m\n\u001b[1;32m     14\u001b[0m \u001b[38;5;28mself\u001b[39m\u001b[38;5;241m.\u001b[39mupdate_detection_probabilities()\n\u001b[1;32m     15\u001b[0m \u001b[38;5;28mself\u001b[39m\u001b[38;5;241m.\u001b[39mupdate_simulated_histogram()\n\u001b[0;32m---> 16\u001b[0m \u001b[38;5;28mself\u001b[39m\u001b[38;5;241m.\u001b[39mupdate_coates_estimation()\n",
      "File \u001b[0;32m~/Documents/PythonCode/Coates/src/GatingAlgo.py:59\u001b[0m, in \u001b[0;36mSPADSimulateEngine.update_coates_estimation\u001b[0;34m(self)\u001b[0m\n\u001b[1;32m     56\u001b[0m expected_counts \u001b[38;5;241m=\u001b[39m coates_flux \u001b[38;5;241m*\u001b[39m \u001b[38;5;28mself\u001b[39m\u001b[38;5;241m.\u001b[39m_cycles\n\u001b[1;32m     57\u001b[0m expected_counts \u001b[38;5;241m=\u001b[39m np\u001b[38;5;241m.\u001b[39mclip(expected_counts, \u001b[38;5;241m0\u001b[39m, \u001b[38;5;28;01mNone\u001b[39;00m)  \u001b[38;5;66;03m# 确保值非负\u001b[39;00m\n\u001b[0;32m---> 59\u001b[0m raw_histogram \u001b[38;5;241m=\u001b[39m np\u001b[38;5;241m.\u001b[39mrandom\u001b[38;5;241m.\u001b[39mpoisson(expected_counts)\n\u001b[1;32m     60\u001b[0m total_counts \u001b[38;5;241m=\u001b[39m np\u001b[38;5;241m.\u001b[39msum(raw_histogram)\n\u001b[1;32m     62\u001b[0m \u001b[38;5;28;01mif\u001b[39;00m total_counts \u001b[38;5;241m>\u001b[39m \u001b[38;5;241m0\u001b[39m:\n",
      "File \u001b[0;32mnumpy/random/mtrand.pyx:3669\u001b[0m, in \u001b[0;36mnumpy.random.mtrand.RandomState.poisson\u001b[0;34m()\u001b[0m\n",
      "File \u001b[0;32m_common.pyx:883\u001b[0m, in \u001b[0;36mnumpy.random._common.disc\u001b[0;34m()\u001b[0m\n",
      "File \u001b[0;32m_common.pyx:680\u001b[0m, in \u001b[0;36mnumpy.random._common.discrete_broadcast_d\u001b[0;34m()\u001b[0m\n",
      "File \u001b[0;32m_common.pyx:411\u001b[0m, in \u001b[0;36mnumpy.random._common.check_array_constraint\u001b[0;34m()\u001b[0m\n",
      "\u001b[0;31mValueError\u001b[0m: lam value too large"
     ]
    }
   ],
   "source": [
    "import src.GatingAlgo as ga\n",
    "\n",
    "# SingleGaussian参数设置\n",
    "num_bins = 100\n",
    "pulse_pos = 40\n",
    "pulse_width = 3\n",
    "signal_strength = 0.6\n",
    "bg_strength = 0.04\n",
    "num_cycles = 5000\n",
    "\n",
    "# 创建SingleGaussian实例\n",
    "gating_algo = ga.SingleGaussian(num_bins, pulse_pos, pulse_width, signal_strength, bg_strength, num_cycles)\n",
    "\n",
    "# 绘图\n",
    "gating_algo.plot_hist_plotly()\n",
    "gating_algo.plot_coates_estimation()  # 绘制Coates估计直方图"
   ]
  },
  {
   "cell_type": "code",
   "execution_count": null,
   "metadata": {},
   "outputs": [],
   "source": [
    "# DoubleGaussian参数设置\n",
    "num_bins = 100\n",
    "pulse_pos1 = 40\n",
    "pulse_pos2 = 70\n",
    "pulse_width1 = 2\n",
    "pulse_width2 = 2\n",
    "signal_strength = 0.6\n",
    "bg_strength = 0.03\n",
    "num_cycles = 5000\n",
    "\n",
    "# 创建DoubleGaussian实例\n",
    "gating_algo_double = ga.DoubleGaussian(num_bins, pulse_pos1, pulse_pos2, pulse_width1, pulse_width2, signal_strength, bg_strength, num_cycles)\n",
    "\n",
    "# 绘图\n",
    "gating_algo_double.plot_hist_plotly()\n",
    "gating_algo_double.plot_coates_estimation()  # 绘制Coates估计直方图"
   ]
  }
 ],
 "metadata": {
  "kernelspec": {
   "display_name": "base",
   "language": "python",
   "name": "python3"
  },
  "language_info": {
   "codemirror_mode": {
    "name": "ipython",
    "version": 3
   },
   "file_extension": ".py",
   "mimetype": "text/x-python",
   "name": "python",
   "nbconvert_exporter": "python",
   "pygments_lexer": "ipython3",
   "version": "3.12.4"
  }
 },
 "nbformat": 4,
 "nbformat_minor": 2
}
